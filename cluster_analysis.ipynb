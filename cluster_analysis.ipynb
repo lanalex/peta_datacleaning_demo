{
 "cells": [
  {
   "cell_type": "markdown",
   "id": "c9007f6d-6647-489a-bfbc-338cba87921d",
   "metadata": {},
   "source": [
    "# Clone image loader and install it"
   ]
  },
  {
   "cell_type": "code",
   "execution_count": 83,
   "id": "dd847b42-79a5-4ff5-953b-17e022420998",
   "metadata": {
    "tags": []
   },
   "outputs": [],
   "source": []
  },
  {
   "cell_type": "code",
   "execution_count": 109,
   "id": "b095bd94-dcd4-4c11-8f0b-46861790422b",
   "metadata": {
    "tags": []
   },
   "outputs": [
    {
     "name": "stdout",
     "output_type": "stream",
     "text": [
      "/home/ec2-user/SageMaker/eugene/peta_clean\n"
     ]
    }
   ],
   "source": [
    "!pwd"
   ]
  },
  {
   "cell_type": "code",
   "execution_count": 108,
   "id": "5f24aa9d-e524-4c6f-9da3-ac59a814d0da",
   "metadata": {
    "tags": []
   },
   "outputs": [
    {
     "name": "stdout",
     "output_type": "stream",
     "text": [
      "Reinitialized existing Git repository in /home/ec2-user/SageMaker/eugene/peta_clean/.git/\n",
      "[main c23a5f7] first commit\n",
      " 1 file changed, 3 insertions(+)\n",
      "error: remote origin already exists.\n",
      "Username for 'https://github.com/lanalex/peta_datacleaning_demo.git': ^C\n"
     ]
    }
   ],
   "source": [
    "!git init\n",
    "!git config --global user.name \"Alexander Lan\"\n",
    "!git config --global user.email alex@seedoo.co\n",
    "\n",
    "\n",
    "!echo \"./image_loader\" >> .gitignore\n",
    "!echo \"./data/images\" >> .gitignore\n",
    "!echo \"./reid-mobilenet\" >> .gitignore\n",
    "!git add ./cluster_analysis.ipynb\n",
    "!git add ./.gitignore\n",
    "\n",
    "#!git add ./data.zip\n",
    "!git commit -m \"first commit\"\n",
    "!git branch -M main\n",
    "\n",
    "!git remote add  origin https://github.com/lanalex/peta_datacleaning_demo.git\n",
    "#!git push origin main --quiet\n",
    " "
   ]
  },
  {
   "cell_type": "code",
   "execution_count": 103,
   "id": "c2927457-128d-49f1-a1aa-40fcae8b6e37",
   "metadata": {
    "tags": []
   },
   "outputs": [],
   "source": [
    "!git remote rm origin"
   ]
  },
  {
   "cell_type": "code",
   "execution_count": 101,
   "id": "03c8d771-8c2b-45eb-bfcd-f68a2170ec40",
   "metadata": {
    "tags": []
   },
   "outputs": [
    {
     "name": "stdout",
     "output_type": "stream",
     "text": [
      "error: src refspec alex@seedoo.co does not match any\n",
      "\u001b[31merror: failed to push some refs to 'https://github.com/lanalex/peta_datacleaning_demo.git'\n",
      "\u001b[m"
     ]
    }
   ],
   "source": [
    "!git push origin main -u alex@seedoo.co"
   ]
  },
  {
   "cell_type": "code",
   "execution_count": 11,
   "id": "c6a6345d-3760-4446-8f69-cbd68ac276aa",
   "metadata": {
    "tags": []
   },
   "outputs": [
    {
     "name": "stdout",
     "output_type": "stream",
     "text": [
      "fatal: destination path 'image_loader' already exists and is not an empty directory.\n",
      "running install\n",
      "/home/ec2-user/anaconda3/envs/amazonei_pytorch_latest_p37/lib/python3.7/site-packages/setuptools/command/install.py:37: SetuptoolsDeprecationWarning: setup.py install is deprecated. Use build and pip and other standards-based tools.\n",
      "  setuptools.SetuptoolsDeprecationWarning,\n",
      "/home/ec2-user/anaconda3/envs/amazonei_pytorch_latest_p37/lib/python3.7/site-packages/setuptools/command/easy_install.py:147: EasyInstallDeprecationWarning: easy_install command is deprecated. Use build and pip and other standards-based tools.\n",
      "  EasyInstallDeprecationWarning,\n",
      "running bdist_egg\n",
      "running egg_info\n",
      "writing seedoo.egg-info/PKG-INFO\n",
      "writing dependency_links to seedoo.egg-info/dependency_links.txt\n",
      "writing top-level names to seedoo.egg-info/top_level.txt\n",
      "reading manifest file 'seedoo.egg-info/SOURCES.txt'\n",
      "writing manifest file 'seedoo.egg-info/SOURCES.txt'\n",
      "installing library code to build/bdist.linux-x86_64/egg\n",
      "running install_lib\n",
      "running build_py\n",
      "creating build/bdist.linux-x86_64/egg\n",
      "creating build/bdist.linux-x86_64/egg/seedoo\n",
      "creating build/bdist.linux-x86_64/egg/seedoo/vision\n",
      "copying build/lib/seedoo/vision/__init__.py -> build/bdist.linux-x86_64/egg/seedoo/vision\n",
      "creating build/bdist.linux-x86_64/egg/seedoo/vision/utils\n",
      "copying build/lib/seedoo/vision/utils/__init__.py -> build/bdist.linux-x86_64/egg/seedoo/vision/utils\n",
      "creating build/bdist.linux-x86_64/egg/seedoo/vision/utils/tests\n",
      "copying build/lib/seedoo/vision/utils/tests/__init__.py -> build/bdist.linux-x86_64/egg/seedoo/vision/utils/tests\n",
      "copying build/lib/seedoo/vision/utils/tests/test_vision.py -> build/bdist.linux-x86_64/egg/seedoo/vision/utils/tests\n",
      "copying build/lib/seedoo/vision/utils/image_loading.py -> build/bdist.linux-x86_64/egg/seedoo/vision/utils\n",
      "copying build/lib/seedoo/vision/utils/region.py -> build/bdist.linux-x86_64/egg/seedoo/vision/utils\n",
      "byte-compiling build/bdist.linux-x86_64/egg/seedoo/vision/__init__.py to __init__.cpython-37.pyc\n",
      "byte-compiling build/bdist.linux-x86_64/egg/seedoo/vision/utils/__init__.py to __init__.cpython-37.pyc\n",
      "byte-compiling build/bdist.linux-x86_64/egg/seedoo/vision/utils/tests/__init__.py to __init__.cpython-37.pyc\n",
      "byte-compiling build/bdist.linux-x86_64/egg/seedoo/vision/utils/tests/test_vision.py to test_vision.cpython-37.pyc\n",
      "byte-compiling build/bdist.linux-x86_64/egg/seedoo/vision/utils/image_loading.py to image_loading.cpython-37.pyc\n",
      "byte-compiling build/bdist.linux-x86_64/egg/seedoo/vision/utils/region.py to region.cpython-37.pyc\n",
      "creating build/bdist.linux-x86_64/egg/EGG-INFO\n",
      "copying seedoo.egg-info/PKG-INFO -> build/bdist.linux-x86_64/egg/EGG-INFO\n",
      "copying seedoo.egg-info/SOURCES.txt -> build/bdist.linux-x86_64/egg/EGG-INFO\n",
      "copying seedoo.egg-info/dependency_links.txt -> build/bdist.linux-x86_64/egg/EGG-INFO\n",
      "copying seedoo.egg-info/top_level.txt -> build/bdist.linux-x86_64/egg/EGG-INFO\n",
      "zip_safe flag not set; analyzing archive contents...\n",
      "creating 'dist/seedoo-1.0-py3.7.egg' and adding 'build/bdist.linux-x86_64/egg' to it\n",
      "removing 'build/bdist.linux-x86_64/egg' (and everything under it)\n",
      "Processing seedoo-1.0-py3.7.egg\n",
      "Removing /home/ec2-user/anaconda3/envs/amazonei_pytorch_latest_p37/lib/python3.7/site-packages/seedoo-1.0-py3.7.egg\n",
      "Copying seedoo-1.0-py3.7.egg to /home/ec2-user/anaconda3/envs/amazonei_pytorch_latest_p37/lib/python3.7/site-packages\n",
      "seedoo 1.0 is already the active version in easy-install.pth\n",
      "\n",
      "Installed /home/ec2-user/anaconda3/envs/amazonei_pytorch_latest_p37/lib/python3.7/site-packages/seedoo-1.0-py3.7.egg\n",
      "Processing dependencies for seedoo==1.0\n",
      "Finished processing dependencies for seedoo==1.0\n"
     ]
    }
   ],
   "source": [
    "!git clone https://github.com/lanalex/image_loader.git\n",
    "!cd ./image_loader && python3 setup.py install"
   ]
  },
  {
   "cell_type": "code",
   "execution_count": 56,
   "id": "af069f5e-75cd-46a7-968f-e92ae891e13d",
   "metadata": {
    "tags": []
   },
   "outputs": [],
   "source": [
    "# Unpack the data"
   ]
  },
  {
   "cell_type": "code",
   "execution_count": null,
   "id": "a2c14cb0-5279-4058-8c93-30db45483728",
   "metadata": {},
   "outputs": [],
   "source": [
    "!unzip ./data.zip -d ./data\n"
   ]
  },
  {
   "cell_type": "markdown",
   "id": "a07f778c-5221-41a3-a9df-283aa3df5f74",
   "metadata": {},
   "source": [
    "# Install fastdup\n"
   ]
  },
  {
   "cell_type": "code",
   "execution_count": 14,
   "id": "7176e8fe-ac50-4d92-9686-559685f81ccd",
   "metadata": {
    "tags": []
   },
   "outputs": [
    {
     "name": "stdout",
     "output_type": "stream",
     "text": [
      "Looking in indexes: https://pypi.org/simple, https://pip.repos.neuron.amazonaws.com\n",
      "Requirement already satisfied: fastdup in /home/ec2-user/anaconda3/envs/amazonei_pytorch_latest_p37/lib/python3.7/site-packages (0.163)\n",
      "Requirement already satisfied: numpy in /home/ec2-user/anaconda3/envs/amazonei_pytorch_latest_p37/lib/python3.7/site-packages (from fastdup) (1.21.6)\n",
      "Requirement already satisfied: pillow in /home/ec2-user/anaconda3/envs/amazonei_pytorch_latest_p37/lib/python3.7/site-packages (from fastdup) (9.4.0)\n",
      "Requirement already satisfied: pyyaml in /home/ec2-user/anaconda3/envs/amazonei_pytorch_latest_p37/lib/python3.7/site-packages (from fastdup) (5.4.1)\n",
      "Requirement already satisfied: sentry-sdk in /home/ec2-user/anaconda3/envs/amazonei_pytorch_latest_p37/lib/python3.7/site-packages (from fastdup) (1.16.0)\n",
      "Requirement already satisfied: pandas in /home/ec2-user/anaconda3/envs/amazonei_pytorch_latest_p37/lib/python3.7/site-packages (from fastdup) (1.3.5)\n",
      "Requirement already satisfied: tqdm in /home/ec2-user/anaconda3/envs/amazonei_pytorch_latest_p37/lib/python3.7/site-packages (from fastdup) (4.64.1)\n",
      "Requirement already satisfied: opencv-python in /home/ec2-user/anaconda3/envs/amazonei_pytorch_latest_p37/lib/python3.7/site-packages (from fastdup) (4.7.0.68)\n",
      "Requirement already satisfied: pytz>=2017.3 in /home/ec2-user/anaconda3/envs/amazonei_pytorch_latest_p37/lib/python3.7/site-packages (from pandas->fastdup) (2022.7.1)\n",
      "Requirement already satisfied: python-dateutil>=2.7.3 in /home/ec2-user/anaconda3/envs/amazonei_pytorch_latest_p37/lib/python3.7/site-packages (from pandas->fastdup) (2.8.2)\n",
      "Requirement already satisfied: certifi in /home/ec2-user/anaconda3/envs/amazonei_pytorch_latest_p37/lib/python3.7/site-packages (from sentry-sdk->fastdup) (2022.12.7)\n",
      "Requirement already satisfied: urllib3>=1.26.11 in /home/ec2-user/anaconda3/envs/amazonei_pytorch_latest_p37/lib/python3.7/site-packages (from sentry-sdk->fastdup) (1.26.14)\n",
      "Requirement already satisfied: six>=1.5 in /home/ec2-user/anaconda3/envs/amazonei_pytorch_latest_p37/lib/python3.7/site-packages (from python-dateutil>=2.7.3->pandas->fastdup) (1.16.0)\n"
     ]
    }
   ],
   "source": [
    "!pip3 install fastdup"
   ]
  },
  {
   "cell_type": "markdown",
   "id": "51ccc4eb-a4dc-4654-83cb-49a9c9ba1e61",
   "metadata": {
    "tags": []
   },
   "source": [
    "# Lets import the ImageLoader so we can visualize "
   ]
  },
  {
   "cell_type": "code",
   "execution_count": 50,
   "id": "02418927-0ba4-466a-b3d2-e6ab3b52e9e7",
   "metadata": {
    "tags": []
   },
   "outputs": [],
   "source": [
    "import sys\n",
    "\n",
    "# Not mandatory but on AWS Sage the editable isntall seems not work \n",
    "sys.path.append(\"./image_loader\")\n",
    "\n",
    "from seedoo.vision.utils.image_loading import ImageLoader, ListOfImageLoaders\n"
   ]
  },
  {
   "cell_type": "markdown",
   "id": "5a05ba2a-ef3a-41b8-be42-e7867d2849a4",
   "metadata": {},
   "source": [
    "# Lets run fastdup to get the components CSV \n",
    "> Efficnet high scaling clustering\n",
    "> We use the ReID network from https://github.com/KaiyangZhou/deep-person-reid as ONNX to extract the features. We use the last layer before the fully connected layer\n",
    "> we found that his gives better performance. In general our experimination shows that a task oriented embedding provides better results than a generic embedding\n"
   ]
  },
  {
   "cell_type": "code",
   "execution_count": 73,
   "id": "de90e4cd-87ea-4099-8d05-279830781d08",
   "metadata": {
    "tags": []
   },
   "outputs": [
    {
     "name": "stdout",
     "output_type": "stream",
     "text": [
      "FastDup Software, (C) copyright 2022 Dr. Amir Alush and Dr. Danny Bickson.\n",
      "Found existing atrain_features.dat file in the working directory, please remove it before running the program or run in a fresh directory.\n",
      "If you like to resume a previously stopped run, please run with resume=1.\n"
     ]
    },
    {
     "data": {
      "text/plain": [
       "1"
      ]
     },
     "execution_count": 73,
     "metadata": {},
     "output_type": "execute_result"
    }
   ],
   "source": [
    "import fastdup\n",
    "work_dir = 'reid-mobilenet'\n",
    "\n",
    "fastdup.run(\n",
    "    input_dir=\"./data/images/\", \n",
    "    work_dir=work_dir, \n",
    "    turi_param='ccthreshold=0.99',\n",
    "    threshold=0.9,\n",
    "    num_images=19000,\n",
    "    model_path='./MobileNetV2_3_300_170.onnx',\n",
    "    d=1280,\n",
    ")"
   ]
  },
  {
   "cell_type": "markdown",
   "id": "6d545f97-f56d-4d8e-8447-6cceaf4baa95",
   "metadata": {},
   "source": [
    "# Since we are dealing with a multi label problem, \n",
    "> we also use fastdups ability to pass a callback to read the label of a sample, without the need to specify it a"
   ]
  },
  {
   "cell_type": "code",
   "execution_count": 27,
   "id": "5eb6ed7a-63f8-4f04-ada3-18a999df7b88",
   "metadata": {
    "tags": []
   },
   "outputs": [
    {
     "name": "stderr",
     "output_type": "stream",
     "text": [
      "/home/ec2-user/anaconda3/envs/amazonei_pytorch_latest_p37/lib/python3.7/site-packages/ipykernel_launcher.py:21: TqdmDeprecationWarning: This function will be removed in tqdm==5.0.0\n",
      "Please use `tqdm.notebook.tqdm` instead of `tqdm.tqdm_notebook`\n"
     ]
    },
    {
     "data": {
      "application/vnd.jupyter.widget-view+json": {
       "model_id": "95cfca1fce54486a9194dddd121aa3dc",
       "version_major": 2,
       "version_minor": 0
      },
      "text/plain": [
       "0it [00:00, ?it/s]"
      ]
     },
     "metadata": {},
     "output_type": "display_data"
    }
   ],
   "source": [
    "import os\n",
    "import pandas as pd\n",
    "from tqdm import tqdm_notebook\n",
    "\n",
    "labels_index = {} \n",
    "\n",
    "path = 'data/images'\n",
    "\n",
    "peta = pd.read_csv('./data/peta.csv')\n",
    "peta['image_path'] = peta['image_path'].apply(lambda x: os.path.join(path, os.path.basename(x)))\n",
    "\n",
    "\n",
    "\n",
    "\n",
    "# read all labels to create a pandas dataframe with list of labels per image\n",
    "def get_label_list(daraframe):\n",
    "    lines = []\n",
    "    index = []\n",
    "    filename = []\n",
    "    name = []\n",
    "    for i, row in tqdm_notebook(daraframe.iterrows()):\n",
    "        lines.append(list(eval(row.attributes).keys()))\n",
    "        index.append(i)\n",
    "        filename.append(row.image_path)\n",
    "        name = os.path.basename(row.image_path)\n",
    "        labels_index[row.image_path] = lines[-1]\n",
    "    return pd.DataFrame({'index':index, 'labels':lines, 'file':filename, 'name':name})\n",
    "\n",
    "# This is the callback fastdup calls. Given a filename, return the labels\n",
    "def get_label(fname):\n",
    "    \"\"\"label extractor for create_components_gallery\"\"\"\n",
    "    return labels_index[fname]\n",
    "\n",
    "    \n",
    "# Initialize the labels index\n",
    "labels = get_label_list(peta)\n"
   ]
  },
  {
   "cell_type": "markdown",
   "id": "a28db120-0934-42bb-9364-6883d55420af",
   "metadata": {},
   "source": [
    "# Now lets create the components library with fastdup (clustering) "
   ]
  },
  {
   "cell_type": "code",
   "execution_count": 28,
   "id": "70f3e377-f346-462d-a6b7-b7b02008345f",
   "metadata": {
    "tags": []
   },
   "outputs": [
    {
     "name": "stdout",
     "output_type": "stream",
     "text": [
      "Failed to read config file ./config.json\n",
      "['personalLess60', 'carryingOther', 'lowerBodyCasual', 'upperBodyCasual', 'footwearLeatherShoes', 'personalMale', 'accessoryNothing', 'lowerBodyTrousers', 'upperBodyOther', 'upperBodyGreen', 'lowerBodyBrown', 'hairBrown', 'footwearBrown', 'upperBodyLongSleeve', 'hairShort']\n"
     ]
    },
    {
     "name": "stderr",
     "output_type": "stream",
     "text": [
      "100%|██████████| 98/98 [00:24<00:00,  4.07it/s]\n"
     ]
    },
    {
     "name": "stdout",
     "output_type": "stream",
     "text": [
      "Finished OK. Components are stored as image files reid-mobilenet/components_gallery/components_[index].jpg\n",
      "Stored components visual view in  reid-mobilenet/components_gallery/components.html\n",
      "Execution time in seconds 27.1\n"
     ]
    },
    {
     "data": {
      "text/plain": [
       "0"
      ]
     },
     "execution_count": 28,
     "metadata": {},
     "output_type": "execute_result"
    },
    {
     "data": {
      "image/png": "[encoded data removed]",
      "text/plain": [
       "<Figure size 640x480 with 1 Axes>"
      ]
     },
     "metadata": {},
     "output_type": "display_data"
    }
   ],
   "source": [
    "\n",
    "\n",
    "\n",
    "for index, row in labels.iterrows():\n",
    "    labels_index[row.file] = row.labels\n",
    "\n",
    "\n",
    "# create components dataframe for component_generator\n",
    "top_components = fastdup.find_top_components(work_dir)\n",
    "N_TOP_COMPONENTS = top_components.shape[0]\n",
    "\n",
    "# crete gallery\n",
    "fastdup.create_components_gallery(work_dir=work_dir,\n",
    "                                  save_path=f'{work_dir}/components_gallery', \n",
    "                                  get_label_func=get_label, \n",
    "                                  num_images=N_TOP_COMPONENTS,\n",
    "                                  max_width=300, \n",
    "                                  save_artifacts=True,\n",
    "                                  lazy_load=True\n",
    "                                 )\n"
   ]
  },
  {
   "cell_type": "markdown",
   "id": "927d7ef9-c3f8-4e7d-a483-40501f1a9c2f",
   "metadata": {},
   "source": [
    "## Image Label Cleaning\n",
    "\n",
    "In this step, we aim to develop a mechanism to identify and remove bad labels and groups of images. The process involves the following steps:\n",
    "\n",
    "1. Creation of various functions that accept a group of images and their label counts.\n",
    "\n",
    "2. The functions return a new column for each of the methods used to identify good and bad images.\n",
    "\n",
    "3. A list of clean labels is returned for each row.\n",
    "\n",
    "The result is a single DataFrame with several columns representing the output of different algorithms for cleaning. These columns can then be used to filter the data using `df.query` to run different experiments and determine the best cleaning method.\n"
   ]
  },
  {
   "cell_type": "markdown",
   "id": "1baa6d38-e8ef-43ff-bad1-70385330bc56",
   "metadata": {},
   "source": [
    "## The various algorithms to bad bad labels / components "
   ]
  },
  {
   "cell_type": "code",
   "execution_count": 29,
   "id": "528aeb7d-f57d-433c-adc1-b3e7ff39a2e0",
   "metadata": {
    "tags": []
   },
   "outputs": [],
   "source": [
    "def is_bad_label(count_df, thereshold):\n",
    "    \"\"\"Separates bad/good labels according ratio-threshold\"\"\"\n",
    "    count_df['max'] = count_df.counts.max()\n",
    "    count_df['ratio'] = count_df.counts / count_df['max']\n",
    "    bad = count_df.query(f'ratio < {thereshold}')\n",
    "    good = count_df.query(f'ratio >= {thereshold}')\n",
    "    label_dict = dict(zip(count_df.iloc[:,0], count_df.iloc[:,1]))\n",
    "    bad_labels = dict(zip(bad.iloc[:,0], bad.iloc[:,1]))\n",
    "    good_labels = dict(zip(good.iloc[:,0], good.iloc[:,1]))     \n",
    "    return label_dict, bad_labels, good_labels\n",
    "\n",
    "def ratio_threshold_99(count_df, thereshold):\n",
    "    \"\"\"threshold for is_bad_label()\"\"\"\n",
    "    return is_bad_label(count_df, thereshold)\n",
    "\n",
    "def ratio_threshold_90(count_df, thereshold):\n",
    "    \"\"\"threshold for is_bad_label()\"\"\"\n",
    "    return is_bad_label(count_df, thereshold)\n",
    "\n",
    "def ratio_threshold_80(count_df, thereshold):\n",
    "    \"\"\"threshold for is_bad_label()\"\"\"\n",
    "    return is_bad_label(count_df, thereshold)\n",
    "\n",
    "def ratio_threshold_70(count_df, thereshold):\n",
    "    \"\"\"threshold for is_bad_label()\"\"\"\n",
    "    return is_bad_label(count_df, thereshold)\n",
    "\n",
    "def ratio_threshold_60(count_df, thereshold):\n",
    "    \"\"\"threshold for is_bad_label()\"\"\"\n",
    "    return is_bad_label(count_df, thereshold)\n",
    "\n",
    "\n",
    "def is_bad_component(count_df, thereshold):\n",
    "    \"\"\"Separates bad/good components according the std-threshold\"\"\"\n",
    "    return float(count_df['counts'].std() >= thereshold)\n",
    "\n",
    "def std_threshold_50(count_df, thereshold):\n",
    "    \"\"\"threshold for is_bad_component()\"\"\"\n",
    "    return is_bad_component(count_df, thereshold)  \n",
    "\n",
    "def std_threshold_30(count_df, thereshold):\n",
    "    \"\"\"threshold for is_bad_component()\"\"\"\n",
    "    return is_bad_component(count_df, thereshold)  \n",
    "\n",
    "def std_threshold_05(count_df, thereshold):\n",
    "    \"\"\"threshold for is_bad_component()\"\"\"\n",
    "    return is_bad_component(count_df, thereshold)  \n",
    "\n",
    "def std_threshold_01(count_df, thereshold):\n",
    "    \"\"\"threshold for is_bad_component()\"\"\"\n",
    "    return is_bad_component(count_df, thereshold) "
   ]
  },
  {
   "cell_type": "markdown",
   "id": "991adda5-273f-4cc7-b7ca-57df9208254b",
   "metadata": {},
   "source": [
    "## The pipeline:\n",
    "### 1. The function that accepts a dataframe \n",
    "\n",
    "### 2. The list of callbacks\n",
    "\n",
    "### 3. Calculates the groups and ads the columns"
   ]
  },
  {
   "cell_type": "code",
   "execution_count": 34,
   "id": "53457787-578a-4c9a-a383-1355af6e4e90",
   "metadata": {
    "tags": []
   },
   "outputs": [],
   "source": [
    "def component_generator(path, \n",
    "                        components_df=top_components, \n",
    "                        n_components=N_TOP_COMPONENTS,\n",
    "                        is_bad_label_callback=[],\n",
    "                        is_bad_component_callback=[],\n",
    "                        explode=False\n",
    "                       ):\n",
    "    components = []\n",
    "    \n",
    "    for i in tqdm_notebook(range(N_TOP_COMPONENTS)):\n",
    "        count_df = pd.read_csv(os.path.join(path, f\"counts_{i}.csv\"))\n",
    "        component_df = pd.read_csv(os.path.join(path, f\"component_{i}_df.csv\"))\n",
    "        component = top_components.query(f\"component_id == {component_df.iloc[0,1]}\")\n",
    "        image_path = component.files.values[0]\n",
    "        length = component.len.item()\n",
    "        \n",
    "        dictionary = dict()\n",
    "        \n",
    "        for callback in is_bad_label_callback:\n",
    "            thereshold = float(f\"0.{callback.__name__.split('_')[-1]}\")\n",
    "            label_dict, bad_labels, good_labels = callback(count_df, thereshold)\n",
    "            dictionary['labels'] = str(label_dict)\n",
    "            dictionary[f'badLabels_{callback.__name__}'] = bad_labels \n",
    "            dictionary[f'goodLabels_{callback.__name__}'] = good_labels    \n",
    "        \n",
    "        for callback in is_bad_component_callback:\n",
    "            thereshold = float(f\"0.{callback.__name__.split('_')[-1]}\")\n",
    "            dictionary[f'isBadComponent_{callback.__name__}'] = is_bad_component(count_df, thereshold)\n",
    "            \n",
    "        dictionary['component_id'] = i\n",
    "        dictionary['image_path'] = image_path\n",
    "        dictionary['len'] = component.len.item()\n",
    "        components.append(dictionary)\n",
    "        \n",
    "    components = pd.DataFrame(components).reset_index()\n",
    "    \n",
    "    return components.explode('image_path') if explode else components"
   ]
  },
  {
   "cell_type": "markdown",
   "id": "16dd983d-bd6b-4ef2-93b4-e848248efce6",
   "metadata": {},
   "source": [
    "## Set the path to the fastdup components CSV \n",
    "> This is a directory that for each cluster, contains the list of images "
   ]
  },
  {
   "cell_type": "code",
   "execution_count": 39,
   "id": "5d8fed71-5b05-4046-95b5-e7dfcd4a88ec",
   "metadata": {
    "tags": []
   },
   "outputs": [],
   "source": [
    "FASTDUP_COMPONENTS_CSV_PATH = f\"./{work_dir}/components_gallery\""
   ]
  },
  {
   "cell_type": "markdown",
   "id": "167a62d8-cf72-4906-8224-de0207a16050",
   "metadata": {},
   "source": [
    "#### Run the components generator "
   ]
  },
  {
   "cell_type": "code",
   "execution_count": 41,
   "id": "a7562549-ffc7-457b-bda9-2c4627d4150d",
   "metadata": {
    "tags": []
   },
   "outputs": [
    {
     "name": "stderr",
     "output_type": "stream",
     "text": [
      "/home/ec2-user/anaconda3/envs/amazonei_pytorch_latest_p37/lib/python3.7/site-packages/ipykernel_launcher.py:10: TqdmDeprecationWarning: This function will be removed in tqdm==5.0.0\n",
      "Please use `tqdm.notebook.tqdm` instead of `tqdm.tqdm_notebook`\n",
      "  # Remove the CWD from sys.path while we load stuff.\n"
     ]
    },
    {
     "data": {
      "application/vnd.jupyter.widget-view+json": {
       "model_id": "9dffd9edec9a4651a377c60bdb4306d4",
       "version_major": 2,
       "version_minor": 0
      },
      "text/plain": [
       "  0%|          | 0/98 [00:00<?, ?it/s]"
      ]
     },
     "metadata": {},
     "output_type": "display_data"
    }
   ],
   "source": [
    "\n",
    "df = component_generator(\n",
    "    path=FASTDUP_COMPONENTS_CSV_PATH, \n",
    "    is_bad_label_callback=[ratio_threshold_60, ratio_threshold_70, ratio_threshold_80, ratio_threshold_90, ratio_threshold_99], \n",
    "    is_bad_component_callback=[std_threshold_01, std_threshold_05, std_threshold_30, std_threshold_50],\n",
    "    explode=False\n",
    ")"
   ]
  },
  {
   "cell_type": "markdown",
   "id": "6f46d97d-dc45-411c-9e59-51d69a7725a1",
   "metadata": {},
   "source": [
    "# Now we are ready \n",
    " > df contains all our original data plus a lof of additional columns, each named according to the function we defined to analyze . \n",
    "\n",
    "> You can easily add more functions to add more analysis options. "
   ]
  },
  {
   "cell_type": "markdown",
   "id": "f71dc461-9c3c-43ee-80e9-6ba057591bd3",
   "metadata": {
    "tags": []
   },
   "source": [
    "### Right now df represents the clustered information, so each row is a cluster from fasddup, we want to transform that each row is one image with a cluster_id\n",
    "> Pandas.explode is one nice function\n",
    "\n"
   ]
  },
  {
   "cell_type": "code",
   "execution_count": 46,
   "id": "d59965ed-bd9a-4f7b-930c-318bc5f73000",
   "metadata": {
    "tags": []
   },
   "outputs": [],
   "source": [
    "df = df.explode('image_path')\n"
   ]
  },
  {
   "cell_type": "code",
   "execution_count": 48,
   "id": "39abcb0e-457d-410c-8f16-0ad1bc9969d2",
   "metadata": {
    "tags": []
   },
   "outputs": [],
   "source": [
    "### Now we want to put an image column, that uses the ImageLoader that allows easiliy visualize data from disk or s3 directly in jupyter"
   ]
  },
  {
   "cell_type": "code",
   "execution_count": 51,
   "id": "f551c66b-c020-435f-93ee-39a95d3363c9",
   "metadata": {
    "tags": []
   },
   "outputs": [],
   "source": [
    "df['image'] = df['image_path'].apply(lambda x: ImageLoader(x))"
   ]
  },
  {
   "cell_type": "markdown",
   "id": "071bc484-ee65-445d-bce6-45e0d5b2a80b",
   "metadata": {},
   "source": [
    "# Now finally lets see some bad components\n",
    "## We are using the isBadComponent_std_threshold_50 (the function is called isBadComponent_std() but we pass a param and the params are automatically added to the column name\n",
    "### Here note the  ListOfImageLoaders class in the aggregation. This allows us to easily visualize a list of images in one cell \n"
   ]
  },
  {
   "cell_type": "code",
   "execution_count": 54,
   "id": "8659f39a-8361-4266-b0a0-76ba6892e8ce",
   "metadata": {
    "tags": []
   },
   "outputs": [
    {
     "data": {
      "text/html": [
       "<table border=\"1\" class=\"dataframe\">\n",
       "  <thead>\n",
       "    <tr style=\"text-align: right;\">\n",
       "      <th></th>\n",
       "      <th>component_id</th>\n",
       "      <th>image</th>\n",
       "      <th>labels</th>\n",
       "      <th>len</th>\n",
       "    </tr>\n",
       "  </thead>\n",
       "  <tbody>\n",
       "    <tr>\n",
       "      <th>1</th>\n",
       "      <td>15</td>\n",
       "      <td><table border=\"1\" class=\"dataframe\">  <thead>    <tr style=\"text-align: right;\">      <th></th>      <th>0</th>      <th>1</th>      <th>2</th>      <th>3</th>    </tr>  </thead>  <tbody>    <tr>      <th>0</th>      <td><image src='data:image/png;base64,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'></td>      <td><image src='data:image/png;base64,/9j/4AAQSkZJRgABAQAAAQABAAD/2wBDAAIBAQEBAQIBAQECAgICAgQDAgICAgUEBAMEBgUGBgYFBgYGBwkIBgcJBwYGCAsICQoKCgoKBggLDAsKDAkKCgr/2wBDAQICAgICAgUDAwUKBwYHCgoKCgoKCgoKCgoKCgoKCgoKCgoKCgoKCgoKCgoKCgoKCgoKCgoKCgoKCgoKCgoKCgr/wAARCAA8ABcDASIAAhEBAxEB/8QAHwAAAQUBAQEBAQEAAAAAAAAAAAECAwQFBgcICQoL/8QAtRAAAgEDAwIEAwUFBAQAAAF9AQIDAAQRBRIhMUEGE1FhByJxFDKBkaEII0KxwRVS0fAkM2JyggkKFhcYGRolJicoKSo0NTY3ODk6Q0RFRkdISUpTVFVWV1hZWmNkZWZnaGlqc3R1dnd4eXqDhIWGh4iJipKTlJWWl5iZmqKjpKWmp6ipqrKztLW2t7i5usLDxMXGx8jJytLT1NXW19jZ2uHi4+Tl5ufo6erx8vP09fb3+Pn6/8QAHwEAAwEBAQEBAQEBAQAAAAAAAAECAwQFBgcICQoL/8QAtREAAgECBAQDBAcFBAQAAQJ3AAECAxEEBSExBhJBUQdhcRMiMoEIFEKRobHBCSMzUvAVYnLRChYkNOEl8RcYGRomJygpKjU2Nzg5OkNERUZHSElKU1RVVldYWVpjZGVmZ2hpanN0dXZ3eHl6goOEhYaHiImKkpOUlZaXmJmaoqOkpaanqKmqsrO0tba3uLm6wsPExcbHyMnK0tPU1dbX2Nna4uPk5ebn6Onq8vP09fb3+Pn6/9oADAMBAAIRAxEAPwD4l/bE0iL4gftRR6RpWo25ivLGDY6XACDAJYDsTxnFfQX7B9vN8JPDOo+DJ7o3FqrPeBpn2YZUGRn6A8V89ftMfDnRvAvxDsZvCusPJc2mnfvZySSjA4yR1HB/WpfhP8a/E+ixTLZtFfrLYTRXysSdpZGXdx0xnP4V6Eo3xfNo7FYVUFgOWrLUy5/EFh8Rvi3qHi3U7gLdy3lywkBz8uSFwM8fKR27+9FcrZ6xp/ws155rgAloQIynzAqwHze/3cUV2qVKbblE44ydNcsGrHd/HTwr4v8ABXxJ1fRfHWpPBKxaNTNER5ijGCCe3Fct4Mu3s4tXFhfq8iJIpMceVI46EV9tf8FivhrNfR6HrWi6O8sMUM6XLW8Q3A8EMSBzwMV8TfB/RX0/xdb+F7/T9Tkh1LWYY3SOAljG7orDOOoBNebg8TzPmk7I78Xh1CCppanLeOzeSWdjqovCyvCiPvj5B2scCivob9qz9m+4+EHxx8R/DPw5pmoSWukasfsDSLndC67kxxzw+P8AgJ9KK6ZVVJ3WpyQw06cbNH2Z+0p4R8XjU9Ng8Va2+pRTyusaXMKqRwcj+leUfAr4aQXX7TNh4bstKWRZNVtrpW8tW8sscnHsNteuftj6/dapd6EbeKIstzIPlJznI4x61gfADVNF0D9qrw8Z4ITJ/YFvOgCn5mG8kk1z+wsrJpPsXPE16qjOXQ+if2uP2Y/CHifxzH8S/FVmL6+uZESdAyhX+SUAkdwABz64oq58XfiuPFc8cMkVujKiMQSQB96iu6nh6ygrTZE80TkfN37R/wAUvCHhYaBrk9w0sn9pKq2sdoXeUscEgH8K5n4L+KrPxr+1VbeJ9L0+4MOmaPbpdA2oxEjxnGcdOSK9C+P3w38MeL9Q0O/1qCR5NOuXktijhQGCNgkY5pf2TPhh4a8KfELxbrunNcvcX2RObiUMMBmCqBjgDtUSbbskhU3GEbT1Ok8c/EzwvaakyuZgVIXCWrH19KK6DU9LtJ2Z5EBy/I2j/Ciu6Ht+X4jyassNKo/dZ//Z'></td>      <td><image src='data:image/png;base64,/9j/4AAQSkZJRgABAQAAAQABAAD/2wBDAAIBAQEBAQIBAQECAgICAgQDAgICAgUEBAMEBgUGBgYFBgYGBwkIBgcJBwYGCAsICQoKCgoKBggLDAsKDAkKCgr/2wBDAQICAgICAgUDAwUKBwYHCgoKCgoKCgoKCgoKCgoKCgoKCgoKCgoKCgoKCgoKCgoKCgoKCgoKCgoKCgoKCgoKCgr/wAARCAA7ABcDASIAAhEBAxEB/8QAHwAAAQUBAQEBAQEAAAAAAAAAAAECAwQFBgcICQoL/8QAtRAAAgEDAwIEAwUFBAQAAAF9AQIDAAQRBRIhMUEGE1FhByJxFDKBkaEII0KxwRVS0fAkM2JyggkKFhcYGRolJicoKSo0NTY3ODk6Q0RFRkdISUpTVFVWV1hZWmNkZWZnaGlqc3R1dnd4eXqDhIWGh4iJipKTlJWWl5iZmqKjpKWmp6ipqrKztLW2t7i5usLDxMXGx8jJytLT1NXW19jZ2uHi4+Tl5ufo6erx8vP09fb3+Pn6/8QAHwEAAwEBAQEBAQEBAQAAAAAAAAECAwQFBgcICQoL/8QAtREAAgECBAQDBAcFBAQAAQJ3AAECAxEEBSExBhJBUQdhcRMiMoEIFEKRobHBCSMzUvAVYnLRChYkNOEl8RcYGRomJygpKjU2Nzg5OkNERUZHSElKU1RVVldYWVpjZGVmZ2hpanN0dXZ3eHl6goOEhYaHiImKkpOUlZaXmJmaoqOkpaanqKmqsrO0tba3uLm6wsPExcbHyMnK0tPU1dbX2Nna4uPk5ebn6Onq8vP09fb3+Pn6/9oADAMBAAIRAxEAPwD4m/bb8eeFvjF4t8KaporyrGUe3mWQEHlweOo6V67+wzoem/C3xJqCW5uJH1G3j+1bRlVK8jrzXk/x/wBF8CjQvDnhTwlaS3EthbG4a63fNLuHr+o+lUfgl8U/iH4S8RRzeE75pdSVHjmSb5t8ZGNpz3969LEQnUxd4xM8BHCYTCcsxPHfjO1+Inxq1zXdShuLlptUmEM1u43eUoIUc/SiuZ8RS6h8O9Ui1exjS6F8rSQtnnIJVgfQjJors0esnqONSgl7ux3P7QnwQ8S/Aj4pXXh3xEb+1sbeRrawuJ1b97AEwhBxjgE55rjfB89pa+LQ+m6mZybcsAj4b8a/Rn/grB4Hn8d+ANLudEWOaWyv5POhXaW2leuRyfpX5sv4Y13wn4yj1O08P3Do1r5ZjWFixOcZAA5H615VCq2+eR143CQjSUEtWQ6rDd67oazXvmtKrOsiIhI/1gI57cEUV9Z/tW/skx/Cy4t9W8HeD7q20TU/C+lXyotpI/76SOMSbiudp3npRXoLFUHuzyY4edJcrR9WftLfCTTPDPgC61bTrOMTQyRg+XM23k8nnPavkmTwnfJ8R7K+mt2W1EDJHKrZUPnPJx+VfY3xi1S81X4eahDfMXURhjg5+6M18u+N/GVpo3w7C2kDS3U2rwC0CLlj8uCPzxXDOlapblO6niZ1YJS6H3J44+G+lfFP9lTQptS1m7tzcaPB5vkSkM2J4jw2c8Y6UVzng3xN4v8ADPwN0bwprH70wWa7RgkgFkbHP0orthhU4/Cjjq4tuozj9bu/El74TuYbvwvtje1kMjNN0G09a+WxqemeJfE3w+h8OYv7K68YNDqCwqxBAUNjOOOuOcc19e+JYUl8JX8Em4o1pKGXceQUNeJfsJeHtE0bVNSttP02JY21KKTZIPMCv5I+Zd2dp9xiseRSd3qXGcaMdrntfjjxT4sRIrLSfDBMMUYCgScgcYB96K29bjSS7lLgn5vWiumM3FWOSVSk5X5T/9k='></td>      <td><image src='data:image/png;base64,/9j/4AAQSkZJRgABAQAAAQABAAD/2wBDAAIBAQEBAQIBAQECAgICAgQDAgICAgUEBAMEBgUGBgYFBgYGBwkIBgcJBwYGCAsICQoKCgoKBggLDAsKDAkKCgr/2wBDAQICAgICAgUDAwUKBwYHCgoKCgoKCgoKCgoKCgoKCgoKCgoKCgoKCgoKCgoKCgoKCgoKCgoKCgoKCgoKCgoKCgr/wAARCAA9ABcDASIAAhEBAxEB/8QAHwAAAQUBAQEBAQEAAAAAAAAAAAECAwQFBgcICQoL/8QAtRAAAgEDAwIEAwUFBAQAAAF9AQIDAAQRBRIhMUEGE1FhByJxFDKBkaEII0KxwRVS0fAkM2JyggkKFhcYGRolJicoKSo0NTY3ODk6Q0RFRkdISUpTVFVWV1hZWmNkZWZnaGlqc3R1dnd4eXqDhIWGh4iJipKTlJWWl5iZmqKjpKWmp6ipqrKztLW2t7i5usLDxMXGx8jJytLT1NXW19jZ2uHi4+Tl5ufo6erx8vP09fb3+Pn6/8QAHwEAAwEBAQEBAQEBAQAAAAAAAAECAwQFBgcICQoL/8QAtREAAgECBAQDBAcFBAQAAQJ3AAECAxEEBSExBhJBUQdhcRMiMoEIFEKRobHBCSMzUvAVYnLRChYkNOEl8RcYGRomJygpKjU2Nzg5OkNERUZHSElKU1RVVldYWVpjZGVmZ2hpanN0dXZ3eHl6goOEhYaHiImKkpOUlZaXmJmaoqOkpaanqKmqsrO0tba3uLm6wsPExcbHyMnK0tPU1dbX2Nna4uPk5ebn6Onq8vP09fb3+Pn6/9oADAMBAAIRAxEAPwD87/BGqX/wP1Twv8UNGsgks9tcqxYE5Zoto/Dmur+GvhTSPFOkT33i5rq4nuFJ8yG4VQGDqQWBByfpisvxppFw/wAPPCml3d0CdPjkMwK8klBgVU0HUr/RluNKnUJNNL+4hIbIAw3Y11RjaouXUqFShClaqrPofZ3/AAbw+O7vwb+1z4i0q3ZSmoeHJx5UsgG7y5Bg8+gUfrRUH/BH7w3L4Q/bEsJoNNdpB4cvGuECjIjeNdjE9OWz+FFbVEnLVfid2Grc9JOL0PIf21/gn4n8C6jb2Wn6ALPR4JikF4EO3G2MrlundvyFeLpdaTc6xb6jc68gmG8SIF5JAAABr9Mvj94o8AfFb4L+IfB2n3KXFzcaYz2cctm+VdWzkErwcV+YHxH8B67b3iRw2LQSRMXYrGR8vtwKxoV5e1VznxuHpuDSVz6r/wCCfHxXuPhF+2zo174mSWPS9V8N3EaeZnZLiByrZyOAY8fU0VS8EfDyb4h/sWeHfjV4fkki8S+G/GNzpzLLGybrWa39ccgPnGD3PWiu+cI1pcyj+JyYelUp0lGx+gR8MaHNZz20N4P3kDKMHkZB4r4I+N1iiXcEZs42K3rxyssQJABwBk+/Ffb9rNqkRSRYl3ZOMHjoev518t+NYtMi1PWbfW9g+zXR5xyD5v8A9euOrSj3v6GeHqcsLO59Xf8ABMLwp4N1z4Ua14J8RaZBNp7zw3dtBKAyiToTjscUVj/8EmItY17wfr3imaBW0lZhb2zHILOpwcfTmirhCEY21NFGq1dJiR+G/FKN5y+I8gNnaF4r5J/a8luvBdt4j1/TnhnuoNUgW4heXgqzglsDBHSvtSZpoInjjkAA6Hb/APXr5d+JPwh0rxB+0Nq2seJb9r6w1i0iS80iaHEbMg+Vsg9R9K0jSc5K8tDOVZ04bH0/+wRBNoX7O2hW/h7WfIjv4vtZijjGBIwy2fXvRWn+zhoNpovhWw0DSWaC2tLbZCi9hiinPCRcupVHMIcmp//Z'></td>    </tr>  </tbody></table></td>\n",
       "      <td>[{'accessoryNothing': 4, 'hairShort': 4, 'upperBodyLongSleeve': 4, 'upperBodyGrey': 4, 'upperBodyCasual': 4, 'personalMale': 4, 'lowerBodyTrousers': 4, 'lowerBodyCasual': 4, 'footwearBlack': 4, 'carryingNothing': 3, 'hairBlack': 3, 'lowerBodyWhite': 3, 'personalLess45': 3, 'footwearSneaker': 3, 'upperBodyJacket': 3, 'hairWhite': 1, 'lowerBodyBlack': 1, 'personalLarger60': 1, 'footwearLeatherShoes': 1, 'carryingOther': 1, 'upperBodyOther': 1}]</td>\n",
       "      <td>4.0</td>\n",
       "    </tr>\n",
       "    <tr>\n",
       "      <th>0</th>\n",
       "      <td>13</td>\n",
       "      <td><table border=\"1\" class=\"dataframe\">  <thead>    <tr style=\"text-align: right;\">      <th></th>      <th>0</th>      <th>1</th>      <th>2</th>      <th>3</th>    </tr>  </thead>  <tbody>    <tr>      <th>0</th>      <td><image src='data:image/png;base64,/9j/4AAQSkZJRgABAQAAAQABAAD/2wBDAAIBAQEBAQIBAQECAgICAgQDAgICAgUEBAMEBgUGBgYFBgYGBwkIBgcJBwYGCAsICQoKCgoKBggLDAsKDAkKCgr/2wBDAQICAgICAgUDAwUKBwYHCgoKCgoKCgoKCgoKCgoKCgoKCgoKCgoKCgoKCgoKCgoKCgoKCgoKCgoKCgoKCgoKCgr/wAARCAA3ABcDASIAAhEBAxEB/8QAHwAAAQUBAQEBAQEAAAAAAAAAAAECAwQFBgcICQoL/8QAtRAAAgEDAwIEAwUFBAQAAAF9AQIDAAQRBRIhMUEGE1FhByJxFDKBkaEII0KxwRVS0fAkM2JyggkKFhcYGRolJicoKSo0NTY3ODk6Q0RFRkdISUpTVFVWV1hZWmNkZWZnaGlqc3R1dnd4eXqDhIWGh4iJipKTlJWWl5iZmqKjpKWmp6ipqrKztLW2t7i5usLDxMXGx8jJytLT1NXW19jZ2uHi4+Tl5ufo6erx8vP09fb3+Pn6/8QAHwEAAwEBAQEBAQEBAQAAAAAAAAECAwQFBgcICQoL/8QAtREAAgECBAQDBAcFBAQAAQJ3AAECAxEEBSExBhJBUQdhcRMiMoEIFEKRobHBCSMzUvAVYnLRChYkNOEl8RcYGRomJygpKjU2Nzg5OkNERUZHSElKU1RVVldYWVpjZGVmZ2hpanN0dXZ3eHl6goOEhYaHiImKkpOUlZaXmJmaoqOkpaanqKmqsrO0tba3uLm6wsPExcbHyMnK0tPU1dbX2Nna4uPk5ebn6Onq8vP09fb3+Pn6/9oADAMBAAIRAxEAPwDG/aa8e+L/AAR8NW1XwLfeVqDy7IZWiVgw25xjjFfFHxC+MXjH40afYX/jtbeXVdLlmjnnCbMoWQqMdtu09+c9sV95eJdK0zx14Yl0q8sI5xJbboVlP8e3GRXyD8S/2UfGfgTVJXhgOoWssRle7hjIVeAWGMnOMnvziuubjJf8MeLhZQc3z7n2F/wRu10weBtd0t4/uJDJFh+vLAjp70Vyv/BIPVotJ8WaxpE9z+6awYqCDxh6K+axDiqzVj7nCziqKsaPwl+Ldl8RLBpLbwlLB5W1Y5YZ1kABBPPC46D867GG1s9a8NalorErK9nKsYZQQrMpAGO+c/pXyT8Ivix4k8K+HG0zSNRQ28rA3C+WNz4AHBx8vQ/nXrfxS+L3i34M+BtE8VeFtKgulvtwmafkLlN6MTyfu9sV9cqtKV4pJWPz6pR9jWv0K3/BO/Wj4W+Nd7pcshTzbSdCF+baVw3O3Pr+lFcT+zj8VtQ1H44y+LJLS3iuL1p5nhVsIQyOdvzBtuAQffFFfPV6dN1XzJN+r/zPqcFN/V1dv7zwj4feLo0s5Y5JBGx+4d4Ga7fxH+1zffEXwla/CvX/AAbabdLTy4dRjuNrOQmwM3y4OFr59i027gbzJHJ/uKrEf1rI1S4ubPUpYI5TktnaGIFepGm4TbueY40qySdz2b4SePbzQ/Hv2jYx8pHxGvLAFSvI6Ht37UV5Bo/iLU9OvESR5kJyuGByOM49T9c0UnClJ3bZ2U2qcVGMdDubjw5cwTvGLUSEybFBkA2muR8W+GtQOtSGOyK7vusZF/lmiirrvVaHBh+h7RcfBrTfiDb6D4i0GCOyuP7MRLpX+fLBSM9s5ooorx6tWpGbSZ7NOEXG5//Z'></td>      <td><image src='data:image/png;base64,/9j/4AAQSkZJRgABAQAAAQABAAD/2wBDAAIBAQEBAQIBAQECAgICAgQDAgICAgUEBAMEBgUGBgYFBgYGBwkIBgcJBwYGCAsICQoKCgoKBggLDAsKDAkKCgr/2wBDAQICAgICAgUDAwUKBwYHCgoKCgoKCgoKCgoKCgoKCgoKCgoKCgoKCgoKCgoKCgoKCgoKCgoKCgoKCgoKCgoKCgr/wAARCAAyABMDASIAAhEBAxEB/8QAHwAAAQUBAQEBAQEAAAAAAAAAAAECAwQFBgcICQoL/8QAtRAAAgEDAwIEAwUFBAQAAAF9AQIDAAQRBRIhMUEGE1FhByJxFDKBkaEII0KxwRVS0fAkM2JyggkKFhcYGRolJicoKSo0NTY3ODk6Q0RFRkdISUpTVFVWV1hZWmNkZWZnaGlqc3R1dnd4eXqDhIWGh4iJipKTlJWWl5iZmqKjpKWmp6ipqrKztLW2t7i5usLDxMXGx8jJytLT1NXW19jZ2uHi4+Tl5ufo6erx8vP09fb3+Pn6/8QAHwEAAwEBAQEBAQEBAQAAAAAAAAECAwQFBgcICQoL/8QAtREAAgECBAQDBAcFBAQAAQJ3AAECAxEEBSExBhJBUQdhcRMiMoEIFEKRobHBCSMzUvAVYnLRChYkNOEl8RcYGRomJygpKjU2Nzg5OkNERUZHSElKU1RVVldYWVpjZGVmZ2hpanN0dXZ3eHl6goOEhYaHiImKkpOUlZaXmJmaoqOkpaanqKmqsrO0tba3uLm6wsPExcbHyMnK0tPU1dbX2Nna4uPk5ebn6Onq8vP09fb3+Pn6/9oADAMBAAIRAxEAPwD5+/a88bfFPxL4tT4Z6RFNp+jqo+0y7Ri5HDA5+px+FcP8NPCeq6brWpaBpd4YjcWSpLKzf3vvAY9cYr6L8W2ng74pQeU+oKAijyrpDzjOSa85m8DWvw78Z3FtJqr3Ed3EhtZWQhmHJ/DrWlZTlv8A1+B5+FhRir2V/Ur6fpcFvZpC9zYArkEXE8iuOe4C4/8ArUVPF4ys4E8mXSdzISCXiBJwfWiuT21ZaJHoLEVEti14N16S806XSYpo45JIv9HSVevc4I/rWv41t5rzwTDdXyol1ZuqpITyQeetfP0Xj+S68PDUpLuS3kiuNtuoJD4xjJrpH+Pfhyy+HF1ofiV7q9uJo8owY5Qjgc138lSS1/r8TgVoTtE60XmoMMyaeZD3dSmD+tFfMU/xW1WGZo4r/UNoYlcSNjB57UUezj/S/wCCddmXr6512HUri21O5H2dJiUBC4I7fpVLV7y3/se5iBBOzJYHOK3bzQdR8U+IbfT9MjMrTQqYkXkZwOT6fjTPGfw71PRtUuPCU00clxPZLgKvyhzg4z+NaVVGm7XMqUpTheS2PN7e7Pkjc8eRwdzHP8qK6uD9nL4neUNtjCR2xMf6cUVhdeRuk2tvxPqPwho+k2erRvaaXbREQrgxwKp6ewrL8b6XpkuvNPLp0DPtX52hUn73riiiuOp/FIo/wWb2j2Nl/ZsX+hxdD/yzHqaKKKsuPwo//9k='></td>      <td><image src='data:image/png;base64,/9j/4AAQSkZJRgABAQAAAQABAAD/2wBDAAIBAQEBAQIBAQECAgICAgQDAgICAgUEBAMEBgUGBgYFBgYGBwkIBgcJBwYGCAsICQoKCgoKBggLDAsKDAkKCgr/2wBDAQICAgICAgUDAwUKBwYHCgoKCgoKCgoKCgoKCgoKCgoKCgoKCgoKCgoKCgoKCgoKCgoKCgoKCgoKCgoKCgoKCgr/wAARCAA0ABQDASIAAhEBAxEB/8QAHwAAAQUBAQEBAQEAAAAAAAAAAAECAwQFBgcICQoL/8QAtRAAAgEDAwIEAwUFBAQAAAF9AQIDAAQRBRIhMUEGE1FhByJxFDKBkaEII0KxwRVS0fAkM2JyggkKFhcYGRolJicoKSo0NTY3ODk6Q0RFRkdISUpTVFVWV1hZWmNkZWZnaGlqc3R1dnd4eXqDhIWGh4iJipKTlJWWl5iZmqKjpKWmp6ipqrKztLW2t7i5usLDxMXGx8jJytLT1NXW19jZ2uHi4+Tl5ufo6erx8vP09fb3+Pn6/8QAHwEAAwEBAQEBAQEBAQAAAAAAAAECAwQFBgcICQoL/8QAtREAAgECBAQDBAcFBAQAAQJ3AAECAxEEBSExBhJBUQdhcRMiMoEIFEKRobHBCSMzUvAVYnLRChYkNOEl8RcYGRomJygpKjU2Nzg5OkNERUZHSElKU1RVVldYWVpjZGVmZ2hpanN0dXZ3eHl6goOEhYaHiImKkpOUlZaXmJmaoqOkpaanqKmqsrO0tba3uLm6wsPExcbHyMnK0tPU1dbX2Nna4uPk5ebn6Onq8vP09fb3+Pn6/9oADAMBAAIRAxEAPwD46+Ffxp+NPgnw9a+EvhnqsNrCLiS9lS4tw28M4Xbk/jX2f4A8a6l8SPhhDqepwBLm7spEnUDbh9rKSB+BrwX4Yfsc33jHTtL8YaN4sit7afTIWuEPJJGCePYnP417/wCD/BmpeCPCdtpl/dCRPMkWKXHJAY84Prk10/vYVXrY8qpGk6fOnqfnlrGl3NhrV7ZLGD5V5KvX0Y0V23xS8HS6T481SAgLvv53AWEdDM+P0FFbc9byIVdpbH0L+yz4l8TN8LbHULOaNZIpXt1818ZVWGMfh/St/wDaR8beIol8LXVnrbwGSK5W6gtpsKxG3B9iOcV85/DL4r6l4c0RtCszGPIuHdVkwMZx/hXu/wALEtvi9p154W1y6to57qxD6bd4GYZQSSB9c1WJqJxdtx0aFWb5nHQ8b+IUnh/U/ET3cl5c72Q7zJMGJbe2Tn60VD40jl0/xDPYPqMZeB2jkLIRlgxBI9qK89RrW3/Ev6vA8A1DxLcWmuyS2l06jzgwQLktz0r3r4VfGe3+HF1Za9rN9NbxW04kYJGDlSpymPfivIfEWgaHo3imS61OMLEJiV+XPTpUuv3UGqab5SXkTSFwykt/DXRUpy5tbnXh5ycfdPTfi1+0d8I/Hvixtf0jwNq9vGyMrCOXaHbzZG3YHsw/ACivIrfw5qdzH51npM0qHo8cZINFP3VpcHGbZ3Pxp8LaZHr1/YIZBGhLLyM89s46cVw3h7wfptxrttayXNxsaRAQsgHGenAoorXE9SKHwn1t4f0fSNL0W2sbHTIY40iAARMZ46nHU+9FFFeI27nqpKx//9k='></td>      <td><image src='data:image/png;base64,/9j/4AAQSkZJRgABAQAAAQABAAD/2wBDAAIBAQEBAQIBAQECAgICAgQDAgICAgUEBAMEBgUGBgYFBgYGBwkIBgcJBwYGCAsICQoKCgoKBggLDAsKDAkKCgr/2wBDAQICAgICAgUDAwUKBwYHCgoKCgoKCgoKCgoKCgoKCgoKCgoKCgoKCgoKCgoKCgoKCgoKCgoKCgoKCgoKCgoKCgr/wAARCAA/ABcDASIAAhEBAxEB/8QAHwAAAQUBAQEBAQEAAAAAAAAAAAECAwQFBgcICQoL/8QAtRAAAgEDAwIEAwUFBAQAAAF9AQIDAAQRBRIhMUEGE1FhByJxFDKBkaEII0KxwRVS0fAkM2JyggkKFhcYGRolJicoKSo0NTY3ODk6Q0RFRkdISUpTVFVWV1hZWmNkZWZnaGlqc3R1dnd4eXqDhIWGh4iJipKTlJWWl5iZmqKjpKWmp6ipqrKztLW2t7i5usLDxMXGx8jJytLT1NXW19jZ2uHi4+Tl5ufo6erx8vP09fb3+Pn6/8QAHwEAAwEBAQEBAQEBAQAAAAAAAAECAwQFBgcICQoL/8QAtREAAgECBAQDBAcFBAQAAQJ3AAECAxEEBSExBhJBUQdhcRMiMoEIFEKRobHBCSMzUvAVYnLRChYkNOEl8RcYGRomJygpKjU2Nzg5OkNERUZHSElKU1RVVldYWVpjZGVmZ2hpanN0dXZ3eHl6goOEhYaHiImKkpOUlZaXmJmaoqOkpaanqKmqsrO0tba3uLm6wsPExcbHyMnK0tPU1dbX2Nna4uPk5ebn6Onq8vP09fb3+Pn6/9oADAMBAAIRAxEAPwDwn9rX9qv46fDrx9F4Y8C3VjZafDbRyM4g83zTg8F+wPpXAftNeItT+I9x4Q+Jd8sUU2seHUe5RF2qH3beB716/wDte+B/Dl34cPiqVpGkdEt/JjiRhIcZ3Z9uteM6jft4g8MaN4c1tMPoUDwW8sac7S4OD7V0zVrcx42GhCT5o6tH3p/wSa8TvcfBS+015ObO9STH+8hFFcj/AMEptUax0XXPD7yLmMIyfRTt/rRXy+Io0JVm7/gfa4aVX2KPjnxl4o1W7hs7Wa7lkGXYq8z7RyOlULJhLHtc4JGc1z2raws1rZSmT5gjg/8AfQpNL1tGl2AHII6Sc19SuSSu/wBP+CfNU4U4xSglc+y/+CYWtR2PxI1LSzL/AK/TnTn/AGGzRXl/7DPjDW9D+N0lt4fmtkuXs5TELmT91t2nOfeivOq0K0p3SVvke9h6tqSTkfIt3rENxbwR2F4zAjDqx6GptPv7pHjQOCSwHTPenW+kxopBVV+bslTWFtbWOqIjzYJcEH05r0Jpx22PCpS5lp/X4m/4M+IUmleJ5r2GObe0Wxth29KK90+C/wAFfgdrfhu11ifRp764kU/aJXl2uG9B7UVy/WlF20OpQm+v9feec6L4R8GeI9aTRtK0XWXnlP7uDKDYM8sx9BXS+Jf2dtItNBOsapod/Amn2++6nt7hC0q9enfAHSu1+Gnh7w54Bs2lXzZby4+aWbYO/UVe8c+OBZaDPDb2xKy2+wq4GCDxg+1bYlxpYjljt/XkcVPlcFKSszjPg58RfDXhp30TQo7u4Vkz5d2yKRiivPfCWh64NaDpZKY1LMqxTBMZU0ULC06nvNm31motFE//2Q=='></td>    </tr>  </tbody></table></td>\n",
       "      <td>[{'footwearBlack': 4, 'hairBlack': 4, 'upperBodyLongSleeve': 4, 'hairLong': 3, 'personalFemale': 3, 'accessoryNothing': 3, 'personalLess30': 3, 'footwearLeatherShoes': 2, 'upperBodySuit': 2, 'carryingNothing': 2, 'upperBodyGrey': 2, 'upperBodyFormal': 2, 'lowerBodyCasual': 2, 'lowerBodyFormal': 2, 'lowerBodyGrey': 2, 'upperBodyCasual': 2, 'lowerBodyTrousers': 2, 'upperBodyWhite': 2, 'upperBodyOther': 1, 'personalLess45': 1, 'upperBodySweater': 1, 'personalMale': 1, 'upperBodyVNeck': 1, 'accessoryHairBand': 1, 'lowerBodySuits': 1, 'lowerBodyPink': 1, 'lowerBodyBlack': 1, 'hairShort': 1, 'footwearSneaker': 1, 'footwearShoes': 1, 'carryingPlasticBags': 1, 'carryingMessengerBag': 1, 'carryingFolder': 1, 'lowerBodyJeans': 1}]</td>\n",
       "      <td>4.0</td>\n",
       "    </tr>\n",
       "  </tbody>\n",
       "</table>"
      ],
      "text/plain": [
       "<IPython.core.display.HTML object>"
      ]
     },
     "metadata": {},
     "output_type": "display_data"
    }
   ],
   "source": [
    "# Explanation: \n",
    "# 1. The \"labels\" column contains labels counts and presence of different counts means those images have different labels. \n",
    "# 2. That means the compoments contain badly labeled images or images with different people.\n",
    "# 3. Column \"len\" shows number of images per component\n",
    "\n",
    "result = df\\\n",
    ".query('isBadComponent_std_threshold_50 == 1 and 2 < len < 5')\\\n",
    ".groupby(['component_id'])\\\n",
    ".agg({'image': lambda x: ListOfImageLoaders(x.sample(min(5, len(x))).values.tolist(), columns_per_row=5),\n",
    "     'labels':'unique',\n",
    "     'len':'mean'})\\\n",
    "\n",
    "result.reset_index().sample(2).render()"
   ]
  },
  {
   "cell_type": "code",
   "execution_count": null,
   "id": "28f8924b-31ad-42f5-8c72-d780bba65c08",
   "metadata": {},
   "outputs": [],
   "source": []
  }
 ],
 "metadata": {
  "kernelspec": {
   "display_name": "conda_amazonei_pytorch_latest_p37",
   "language": "python",
   "name": "conda_amazonei_pytorch_latest_p37"
  },
  "language_info": {
   "codemirror_mode": {
    "name": "ipython",
    "version": 3
   },
   "file_extension": ".py",
   "mimetype": "text/x-python",
   "name": "python",
   "nbconvert_exporter": "python",
   "pygments_lexer": "ipython3",
   "version": "3.7.10"
  }
 },
 "nbformat": 4,
 "nbformat_minor": 5
}
